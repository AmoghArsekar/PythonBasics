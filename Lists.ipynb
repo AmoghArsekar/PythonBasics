{
 "cells": [
  {
   "cell_type": "code",
   "execution_count": 4,
   "metadata": {},
   "outputs": [
    {
     "name": "stdout",
     "output_type": "stream",
     "text": [
      "The average marks are: 16.20\n"
     ]
    }
   ],
   "source": [
    "# #* Find the average of a list of numbers\n",
    "\n",
    "total_marks = []\n",
    "\n",
    "for i in range(5):\n",
    "    marks = int(input(f\"Enter marks for Subject {i+1}: \"))\n",
    "    total_marks.append(marks)\n",
    "\n",
    "average = sum(total_marks) / len(total_marks)\n",
    "print(f\"The average marks are: {average:.2f}\")"
   ]
  },
  {
   "cell_type": "code",
   "execution_count": 1,
   "metadata": {},
   "outputs": [
    {
     "name": "stdout",
     "output_type": "stream",
     "text": [
      "Original Tuple: (1, 2, 3, 4, 5)\n"
     ]
    }
   ],
   "source": [
    "# #* Tuples are immutable lists\n",
    "\n",
    "my_tuple = (1, 2, 3, 4, 5)\n",
    "print(\"Original Tuple:\", my_tuple)\n",
    "#! my_tuple[0] = 10  # This will raise an error"
   ]
  }
 ],
 "metadata": {
  "kernelspec": {
   "display_name": "base",
   "language": "python",
   "name": "python3"
  },
  "language_info": {
   "codemirror_mode": {
    "name": "ipython",
    "version": 3
   },
   "file_extension": ".py",
   "mimetype": "text/x-python",
   "name": "python",
   "nbconvert_exporter": "python",
   "pygments_lexer": "ipython3",
   "version": "3.12.7"
  }
 },
 "nbformat": 4,
 "nbformat_minor": 2
}
