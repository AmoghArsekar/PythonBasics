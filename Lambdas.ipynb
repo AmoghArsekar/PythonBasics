{
 "cells": [
  {
   "cell_type": "code",
   "execution_count": 1,
   "id": "90349fe4",
   "metadata": {},
   "outputs": [
    {
     "name": "stdout",
     "output_type": "stream",
     "text": [
      "[2, 4, 6, 8, 10]\n"
     ]
    }
   ],
   "source": [
    "\"\"\"\n",
    "* Lambda Functions\n",
    "- A lambda function is a small anonymous function that can take any number of arguments, \n",
    "but can only have one expression.\n",
    "- The expression is evaluated and returned.\n",
    "- They are syntactically restricted to a single expression.\n",
    "- They can be used to create small, throwaway functions without needing to formally \n",
    "define them using def.\n",
    "\"\"\"\n",
    "\n",
    "x = [1, 2, 3, 4, 5]\n",
    "y = list(map(lambda a: a * 2, x))\n",
    "print(y)"
   ]
  }
 ],
 "metadata": {
  "kernelspec": {
   "display_name": "base",
   "language": "python",
   "name": "python3"
  },
  "language_info": {
   "codemirror_mode": {
    "name": "ipython",
    "version": 3
   },
   "file_extension": ".py",
   "mimetype": "text/x-python",
   "name": "python",
   "nbconvert_exporter": "python",
   "pygments_lexer": "ipython3",
   "version": "3.12.7"
  }
 },
 "nbformat": 4,
 "nbformat_minor": 5
}
