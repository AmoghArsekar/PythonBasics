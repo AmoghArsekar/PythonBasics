{
 "cells": [
  {
   "cell_type": "code",
   "execution_count": null,
   "id": "33a2d452",
   "metadata": {},
   "outputs": [
    {
     "name": "stdout",
     "output_type": "stream",
     "text": [
      "Hello, my name is Amogh and I am 25 years old.\n"
     ]
    }
   ],
   "source": [
    "\"\"\"\n",
    "* F-Strings\n",
    "- f-strings provide a way to embed expressions inside string literals, using curly braces {}.\n",
    "- They are prefixed with 'f' or 'F'.\n",
    "\"\"\"\n",
    "\n",
    "name = \"Amogh\"\n",
    "age = 25\n",
    "greeting = f\"Hello, my name is {name} and I am {age} years old.\"\n",
    "print(greeting)"
   ]
  }
 ],
 "metadata": {
  "kernelspec": {
   "display_name": "base",
   "language": "python",
   "name": "python3"
  },
  "language_info": {
   "codemirror_mode": {
    "name": "ipython",
    "version": 3
   },
   "file_extension": ".py",
   "mimetype": "text/x-python",
   "name": "python",
   "nbconvert_exporter": "python",
   "pygments_lexer": "ipython3",
   "version": "3.12.7"
  }
 },
 "nbformat": 4,
 "nbformat_minor": 5
}
