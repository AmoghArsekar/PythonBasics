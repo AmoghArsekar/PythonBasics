{
 "cells": [
  {
   "cell_type": "code",
   "execution_count": 1,
   "metadata": {},
   "outputs": [],
   "source": [
    "para = \"\"\"\n",
    "  Lorem Ipsum is simply dummy text of the printing and typesetting industry. \n",
    "  Lorem Ipsum has been the industry's standard dummy text ever since the 1500s, \n",
    "  when an unknown printer took a galley of type and scrambled it to make a type specimen book. \n",
    "  It has survived not only five centuries, but also the leap into electronic typesetting, remaining essentially unchanged. \n",
    "  It was popularized in the 1960s with the release of Letraset sheets containing Lorem Ipsum passages, \n",
    "  and more recently with desktop publishing software like Aldus PageMaker including versions of Lorem Ipsum.\n",
    "\"\"\""
   ]
  },
  {
   "cell_type": "code",
   "execution_count": null,
   "metadata": {},
   "outputs": [
    {
     "name": "stdout",
     "output_type": "stream",
     "text": [
      "Number of occurrences of 'a' in the paragraph is: 28\n"
     ]
    }
   ],
   "source": [
    "# #* Find number of occurrences of a letter in the paragraph\n",
    "\n",
    "match = input(\"Enter the letter you want to find number of occurrences for: \")\n",
    "count = 0\n",
    "for i in range(len(para)):\n",
    "  if (para[i] == match):\n",
    "    count += 1\n",
    "\n",
    "print(f\"Number of occurrences of '{match}' in the paragraph is: {count}\")"
   ]
  },
  {
   "cell_type": "code",
   "execution_count": 3,
   "metadata": {},
   "outputs": [
    {
     "name": "stdout",
     "output_type": "stream",
     "text": [
      "\n",
      "  Lorem Ipsum is simply dummy text of the printing $nd typesetting industry. \n",
      "  Lorem Ipsum h$s been the industry's st$nd$rd dummy text ever since the 1500s, \n",
      "  when $n unknown printer took $ g$lley of type $nd scr$mbled it to m$ke $ type specimen book. \n",
      "  It h$s survived not only five centuries, but $lso the le$p into electronic typesetting, rem$ining essenti$lly unch$nged. \n",
      "  It w$s popul$rized in the 1960s with the rele$se of Letr$set sheets cont$ining Lorem Ipsum p$ss$ges, \n",
      "  $nd more recently with desktop publishing softw$re like Aldus P$geM$ker including versions of Lorem Ipsum.\n",
      "\n"
     ]
    }
   ],
   "source": [
    "# #* Find and replace all occurrences of a letter in the paragraph\n",
    "\n",
    "match = input(\"Enter the letter you want to find and replace all occurrences for: \")\n",
    "replace = input(\"Enter the letter you want to replace it with: \")\n",
    "\n",
    "new_para = para.replace(match, replace)\n",
    "print(new_para)"
   ]
  },
  {
   "cell_type": "code",
   "execution_count": null,
   "metadata": {},
   "outputs": [
    {
     "name": "stdout",
     "output_type": "stream",
     "text": [
      "Hello\n",
      "HELLO WORLD!\n"
     ]
    }
   ],
   "source": [
    "# #* String methods and slicing\n",
    "\n",
    "new_string = \"Hello World!\"\n",
    "print(new_string[0:5])\n",
    "print(new_string.upper())"
   ]
  }
 ],
 "metadata": {
  "kernelspec": {
   "display_name": "base",
   "language": "python",
   "name": "python3"
  },
  "language_info": {
   "codemirror_mode": {
    "name": "ipython",
    "version": 3
   },
   "file_extension": ".py",
   "mimetype": "text/x-python",
   "name": "python",
   "nbconvert_exporter": "python",
   "pygments_lexer": "ipython3",
   "version": "3.12.7"
  }
 },
 "nbformat": 4,
 "nbformat_minor": 2
}
