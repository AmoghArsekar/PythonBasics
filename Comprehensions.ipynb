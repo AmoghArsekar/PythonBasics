{
 "cells": [
  {
   "cell_type": "code",
   "execution_count": 4,
   "id": "be69662d",
   "metadata": {},
   "outputs": [
    {
     "name": "stdout",
     "output_type": "stream",
     "text": [
      "List of squares: [0, 1, 4, 9, 16, 25, 36, 49, 64, 81]\n",
      "Set of powers of 2: {32, 1, 2, 64, 4, 128, 256, 512, 8, 16}\n",
      "Dictionary of hex values: {0: '0x0', 1: '0x1', 2: '0x2', 3: '0x3', 4: '0x4', 5: '0x5', 6: '0x6', 7: '0x7', 8: '0x8', 9: '0x9', 10: '0xa', 11: '0xb', 12: '0xc', 13: '0xd', 14: '0xe', 15: '0xf'}\n"
     ]
    }
   ],
   "source": [
    "\"\"\"\n",
    "* Comprehensions in Python\n",
    "- A comprehension is a concise way to create lists, sets, or dictionaries.\n",
    "\"\"\"\n",
    "\n",
    "# List Comprehension\n",
    "squares = [x**2 for x in range(10)]\n",
    "print(\"List of squares:\", squares)\n",
    "\n",
    "# Set Comprehension\n",
    "bits = {2**x for x in range(10)}\n",
    "print(\"Set of powers of 2:\", bits)\n",
    "\n",
    "# Dictionary Comprehension\n",
    "hex_dict = {x: hex(x) for x in range(16)}\n",
    "print(\"Dictionary of hex values:\", hex_dict)"
   ]
  }
 ],
 "metadata": {
  "kernelspec": {
   "display_name": "base",
   "language": "python",
   "name": "python3"
  },
  "language_info": {
   "codemirror_mode": {
    "name": "ipython",
    "version": 3
   },
   "file_extension": ".py",
   "mimetype": "text/x-python",
   "name": "python",
   "nbconvert_exporter": "python",
   "pygments_lexer": "ipython3",
   "version": "3.12.7"
  }
 },
 "nbformat": 4,
 "nbformat_minor": 5
}
