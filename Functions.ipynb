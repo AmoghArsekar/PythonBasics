{
 "cells": [
  {
   "cell_type": "code",
   "execution_count": 1,
   "metadata": {},
   "outputs": [
    {
     "name": "stdout",
     "output_type": "stream",
     "text": [
      "The area of the circle is 38.48451000647496\n"
     ]
    }
   ],
   "source": [
    "# #* Calculate the area of a circle using math library\n",
    "\n",
    "from math import pi, pow\n",
    "\n",
    "def circle_area(radius):\n",
    "    return pi * pow(radius, 2)\n",
    "\n",
    "if __name__ == \"__main__\":\n",
    "    radius = float(input(\"Enter the radius of the circle: \"))\n",
    "    print(f\"The area of the circle is {circle_area(radius)}\")"
   ]
  }
 ],
 "metadata": {
  "kernelspec": {
   "display_name": "base",
   "language": "python",
   "name": "python3"
  },
  "language_info": {
   "codemirror_mode": {
    "name": "ipython",
    "version": 3
   },
   "file_extension": ".py",
   "mimetype": "text/x-python",
   "name": "python",
   "nbconvert_exporter": "python",
   "pygments_lexer": "ipython3",
   "version": "3.12.7"
  }
 },
 "nbformat": 4,
 "nbformat_minor": 2
}
