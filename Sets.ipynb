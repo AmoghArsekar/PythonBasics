{
 "cells": [
  {
   "cell_type": "code",
   "execution_count": 2,
   "id": "892a7716",
   "metadata": {},
   "outputs": [
    {
     "name": "stdout",
     "output_type": "stream",
     "text": [
      "<class 'set'>\n",
      "<class 'dict'>\n"
     ]
    }
   ],
   "source": [
    "\"\"\"\n",
    "? What is a set?\n",
    "- A set is a collection which is unordered and un-indexed.\n",
    "- In Python sets are written with curly brackets.\n",
    "\"\"\"\n",
    "\n",
    "x = set() # The set function is needed to create an empty set.\n",
    "print(type(x))\n",
    "\n",
    "y = {} # Because this creates an empty dictionary, not a set.\n",
    "print(type(y))"
   ]
  },
  {
   "cell_type": "code",
   "execution_count": 9,
   "id": "eba49de5",
   "metadata": {},
   "outputs": [
    {
     "name": "stdout",
     "output_type": "stream",
     "text": [
      "{200, 50, 35}\n"
     ]
    }
   ],
   "source": [
    "a = {50, 200, 35, 50, 35} # A set with elements can be created using curly brackets.\n",
    "print(a) # Duplicates will be removed."
   ]
  },
  {
   "cell_type": "code",
   "execution_count": 10,
   "id": "82c7f3d8",
   "metadata": {},
   "outputs": [
    {
     "name": "stdout",
     "output_type": "stream",
     "text": [
      "{200, 50, 35, 100}\n",
      "{200, 50, 100}\n"
     ]
    }
   ],
   "source": [
    "# #* Set methods\n",
    "\n",
    "a.add(100)\n",
    "print(a)\n",
    "a.remove(35)\n",
    "print(a)"
   ]
  }
 ],
 "metadata": {
  "kernelspec": {
   "display_name": "base",
   "language": "python",
   "name": "python3"
  },
  "language_info": {
   "codemirror_mode": {
    "name": "ipython",
    "version": 3
   },
   "file_extension": ".py",
   "mimetype": "text/x-python",
   "name": "python",
   "nbconvert_exporter": "python",
   "pygments_lexer": "ipython3",
   "version": "3.12.7"
  }
 },
 "nbformat": 4,
 "nbformat_minor": 5
}
