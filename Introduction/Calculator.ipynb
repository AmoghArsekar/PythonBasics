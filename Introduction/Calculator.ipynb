{
 "cells": [
  {
   "cell_type": "code",
   "execution_count": 7,
   "metadata": {},
   "outputs": [
    {
     "data": {
      "text/plain": [
       "200"
      ]
     },
     "execution_count": 7,
     "metadata": {},
     "output_type": "execute_result"
    }
   ],
   "source": [
    "# #* Operators - add, sub, mul, div.\n",
    "\n",
    "first_operand = int(input(\"Enter the first operand: \"))\n",
    "second_operand = int(input(\"Enter the second operand: \"))\n",
    "operator: str = input(\"Enter the operator: \")\n",
    "\n",
    "if(operator == \"add\"):\n",
    "    output = first_operand + second_operand\n",
    "elif(operator == \"sub\"):\n",
    "    output = first_operand - second_operand\n",
    "elif(operator == \"mul\"):\n",
    "    output = first_operand * second_operand\n",
    "elif(operator == \"div\"):\n",
    "    output = first_operand / second_operand\n",
    "else:\n",
    "    print(\"Invalid operator\")\n",
    "\n",
    "output"
   ]
  }
 ],
 "metadata": {
  "kernelspec": {
   "display_name": "base",
   "language": "python",
   "name": "python3"
  },
  "language_info": {
   "codemirror_mode": {
    "name": "ipython",
    "version": 3
   },
   "file_extension": ".py",
   "mimetype": "text/x-python",
   "name": "python",
   "nbconvert_exporter": "python",
   "pygments_lexer": "ipython3",
   "version": "3.12.7"
  }
 },
 "nbformat": 4,
 "nbformat_minor": 2
}
