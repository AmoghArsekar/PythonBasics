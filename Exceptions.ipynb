{
 "cells": [
  {
   "cell_type": "code",
   "execution_count": 1,
   "id": "84e7c6ea",
   "metadata": {},
   "outputs": [
    {
     "name": "stdout",
     "output_type": "stream",
     "text": [
      "Execution of divide_numbers is complete.\n",
      "The result is 5.0\n",
      "Execution of divide_numbers is complete.\n",
      "Error: Division by zero is not allowed.\n",
      "Execution of divide_numbers is complete.\n",
      "Error: Invalid input type. Please provide numbers.\n"
     ]
    }
   ],
   "source": [
    "\"\"\"\n",
    "* Exception handling in Python\n",
    "- You can use try, except, else, and finally blocks to handle exceptions.\n",
    "- The try block contains code that may raise an exception.\n",
    "\"\"\"\n",
    "\n",
    "def divide_numbers(num1, num2):\n",
    "    try:\n",
    "        result = num1 / num2\n",
    "    except ZeroDivisionError:\n",
    "        return \"Error: Division by zero is not allowed.\"\n",
    "    except TypeError:\n",
    "        return \"Error: Invalid input type. Please provide numbers.\"\n",
    "    else:\n",
    "        return f\"The result is {result}\"\n",
    "    finally:\n",
    "        print(\"Execution of divide_numbers is complete.\")\n",
    "\n",
    "\n",
    "# Example usage\n",
    "print(divide_numbers(10, 2))  # Valid division\n",
    "print(divide_numbers(10, 0))  # Division by zero\n",
    "print(divide_numbers(10, 'a'))  # Invalid input type"
   ]
  }
 ],
 "metadata": {
  "kernelspec": {
   "display_name": "base",
   "language": "python",
   "name": "python3"
  },
  "language_info": {
   "codemirror_mode": {
    "name": "ipython",
    "version": 3
   },
   "file_extension": ".py",
   "mimetype": "text/x-python",
   "name": "python",
   "nbconvert_exporter": "python",
   "pygments_lexer": "ipython3",
   "version": "3.12.7"
  }
 },
 "nbformat": 4,
 "nbformat_minor": 5
}
