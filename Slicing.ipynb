{
 "cells": [
  {
   "cell_type": "code",
   "execution_count": 2,
   "id": "87d59f28",
   "metadata": {},
   "outputs": [
    {
     "name": "stdout",
     "output_type": "stream",
     "text": [
      "Sliced List (2 to 5): [2, 3, 4, 5]\n",
      "Reversed List: [9, 8, 7, 6, 5, 4, 3, 2, 1, 0]\n"
     ]
    }
   ],
   "source": [
    "\"\"\"\n",
    "* Slicing in Python\n",
    "- Slicing allows you to extract a portion of a list, string, or other sequence types.\n",
    "- The syntax for slicing is: sequence[start:stop:step]\n",
    "\"\"\"\n",
    "\n",
    "# Example list\n",
    "my_list = [0, 1, 2, 3, 4, 5, 6, 7, 8, 9]\n",
    "# Slicing from index 2 to 5\n",
    "sliced_list = my_list[2:6]\n",
    "print(\"Sliced List (2 to 5):\", sliced_list)\n",
    "\n",
    "\n",
    "# Easy way to reverse a list using slicing\n",
    "reversed_list = my_list[::-1]\n",
    "print(\"Reversed List:\", reversed_list)"
   ]
  }
 ],
 "metadata": {
  "kernelspec": {
   "display_name": "base",
   "language": "python",
   "name": "python3"
  },
  "language_info": {
   "codemirror_mode": {
    "name": "ipython",
    "version": 3
   },
   "file_extension": ".py",
   "mimetype": "text/x-python",
   "name": "python",
   "nbconvert_exporter": "python",
   "pygments_lexer": "ipython3",
   "version": "3.12.7"
  }
 },
 "nbformat": 4,
 "nbformat_minor": 5
}
