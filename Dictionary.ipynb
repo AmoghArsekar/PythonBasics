{
 "cells": [
  {
   "cell_type": "code",
   "execution_count": 3,
   "metadata": {},
   "outputs": [
    {
     "name": "stdout",
     "output_type": "stream",
     "text": [
      "Located on page 2\n",
      "Located on page 15\n",
      "Located on page 25\n",
      "\n",
      "Deleted value : Located on page 2\n",
      "Dictionary after deleting: {'Hello World': 'Located on page 15', 'SigmaML': 'Located on page 25'}\n"
     ]
    }
   ],
   "source": [
    "# #* Iterate through a dictionary\n",
    "\n",
    "dictionary = {\n",
    "    \"AlphaML\": \"Located on page 2\",\n",
    "    \"Hello World\": \"Located on page 15\",\n",
    "    \"SigmaML\": \"Located on page 25\"\n",
    "}\n",
    "\n",
    "for i in dictionary.keys():\n",
    "    print(dictionary[i])\n",
    "\n",
    "\n",
    "deleted_value = dictionary.pop(\"AlphaML\");\n",
    "print(f\"\\nDeleted value : {deleted_value}\")\n",
    "\n",
    "print(f\"Dictionary after deleting: {dictionary}\")"
   ]
  }
 ],
 "metadata": {
  "kernelspec": {
   "display_name": "base",
   "language": "python",
   "name": "python3"
  },
  "language_info": {
   "codemirror_mode": {
    "name": "ipython",
    "version": 3
   },
   "file_extension": ".py",
   "mimetype": "text/x-python",
   "name": "python",
   "nbconvert_exporter": "python",
   "pygments_lexer": "ipython3",
   "version": "3.12.7"
  }
 },
 "nbformat": 4,
 "nbformat_minor": 2
}
