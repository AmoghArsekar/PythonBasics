{
 "cells": [
  {
   "cell_type": "code",
   "execution_count": 4,
   "id": "c5f257f2",
   "metadata": {},
   "outputs": [
    {
     "name": "stdout",
     "output_type": "stream",
     "text": [
      "0\t1\t2\t3\t4\t\n",
      "10\t20\t30\t40\t50\t\n",
      "0\t1\t2\t3\t4\t\n"
     ]
    }
   ],
   "source": [
    "\"\"\"\n",
    "* We can loop in python using for and while loops.\n",
    "- For loops are used to iterate over a sequence (like a list, tuple, dictionary, set, or string).\n",
    "- While loops are used to execute a block of code as long as a condition is true.\n",
    "\"\"\"\n",
    "\n",
    "for i in range(5):\n",
    "    print(i, end='\\t')\n",
    "print()\n",
    "\n",
    "my_list = [10, 20, 30, 40, 50]\n",
    "for item in my_list:\n",
    "    print(item, end='\\t')\n",
    "print()\n",
    "\n",
    "count = 0\n",
    "while count < 5:\n",
    "    print(count, end='\\t')\n",
    "    count += 1\n",
    "print()"
   ]
  }
 ],
 "metadata": {
  "kernelspec": {
   "display_name": "base",
   "language": "python",
   "name": "python3"
  },
  "language_info": {
   "codemirror_mode": {
    "name": "ipython",
    "version": 3
   },
   "file_extension": ".py",
   "mimetype": "text/x-python",
   "name": "python",
   "nbconvert_exporter": "python",
   "pygments_lexer": "ipython3",
   "version": "3.12.7"
  }
 },
 "nbformat": 4,
 "nbformat_minor": 5
}
