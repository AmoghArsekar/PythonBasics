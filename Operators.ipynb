{
 "cells": [
  {
   "cell_type": "code",
   "execution_count": null,
   "metadata": {},
   "outputs": [
    {
     "name": "stdout",
     "output_type": "stream",
     "text": [
      "Addition: 8\n",
      "Subtraction: 2\n",
      "Multiplication: 15\n",
      "Division: 1.6666666666666667\n",
      "Floor Division: 1\n",
      "Modulus: 2\n",
      "Exponentiation: 125\n"
     ]
    }
   ],
   "source": [
    "\"\"\"\n",
    "* Arithmetic Operators\n",
    "- Addition (+)\n",
    "- Subtraction (-)\n",
    "- Multiplication (*)\n",
    "- Division (/)\n",
    "- Floor Division (//)\n",
    "- Modulus (%)\n",
    "- Exponentiation (**)\n",
    "\"\"\"\n",
    "\n",
    "a = 5\n",
    "b = 3\n",
    "\n",
    "print(\"Addition:\", a + b)\n",
    "print(\"Subtraction:\", a - b)\n",
    "print(\"Multiplication:\", a * b)\n",
    "print(\"Division:\", a / b)\n",
    "print(\"Floor Division:\", a // b)\n",
    "print(\"Modulus:\", a % b)\n",
    "print(\"Exponentiation:\", a ** b)"
   ]
  },
  {
   "cell_type": "code",
   "execution_count": 2,
   "metadata": {},
   "outputs": [
    {
     "name": "stdout",
     "output_type": "stream",
     "text": [
      "Logical AND: False\n",
      "Logical OR: True\n",
      "Logical NOT: False\n"
     ]
    }
   ],
   "source": [
    "\"\"\"\n",
    "* Logical Operators\n",
    "- and\n",
    "- or\n",
    "- not\n",
    "\"\"\"\n",
    "\n",
    "x = True\n",
    "y = False\n",
    "\n",
    "print(\"Logical AND:\", x and y)\n",
    "print(\"Logical OR:\", x or y)\n",
    "print(\"Logical NOT:\", not x)"
   ]
  },
  {
   "cell_type": "code",
   "execution_count": 3,
   "metadata": {},
   "outputs": [
    {
     "name": "stdout",
     "output_type": "stream",
     "text": [
      "Membership in list: True\n",
      "Membership not in list: True\n"
     ]
    }
   ],
   "source": [
    "\"\"\"\n",
    "* Membership Operators\n",
    "- in\n",
    "- not in\n",
    "\"\"\"\n",
    "\n",
    "my_list = [1, 2, 3, 4, 5]\n",
    "\n",
    "print(\"Membership in list:\", 3 in my_list)\n",
    "print(\"Membership not in list:\", 6 not in my_list)"
   ]
  }
 ],
 "metadata": {
  "kernelspec": {
   "display_name": "base",
   "language": "python",
   "name": "python3"
  },
  "language_info": {
   "codemirror_mode": {
    "name": "ipython",
    "version": 3
   },
   "file_extension": ".py",
   "mimetype": "text/x-python",
   "name": "python",
   "nbconvert_exporter": "python",
   "pygments_lexer": "ipython3",
   "version": "3.12.7"
  }
 },
 "nbformat": 4,
 "nbformat_minor": 2
}
