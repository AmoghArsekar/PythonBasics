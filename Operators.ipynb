{
 "cells": [
  {
   "cell_type": "code",
   "execution_count": null,
   "metadata": {},
   "outputs": [
    {
     "name": "stdout",
     "output_type": "stream",
     "text": [
      "Addition: 8\n",
      "Subtraction: 2\n",
      "Multiplication: 15\n",
      "Division: 1.6666666666666667\n",
      "Floor Division: 1\n",
      "Modulus: 2\n",
      "Exponentiation: 125\n"
     ]
    }
   ],
   "source": [
    "\"\"\"\n",
    "* Arithmetic Operators\n",
    "- Addition (+)\n",
    "- Subtraction (-)\n",
    "- Multiplication (*)\n",
    "- Division (/)\n",
    "- Floor Division (//)\n",
    "- Modulus (%)\n",
    "- Exponentiation (**)\n",
    "\"\"\"\n",
    "\n",
    "a = 5\n",
    "b = 3\n",
    "\n",
    "print(\"Addition:\", a + b)\n",
    "print(\"Subtraction:\", a - b)\n",
    "print(\"Multiplication:\", a * b)\n",
    "print(\"Division:\", a / b)\n",
    "print(\"Floor Division:\", a // b)\n",
    "print(\"Modulus:\", a % b)\n",
    "print(\"Exponentiation:\", a ** b)"
   ]
  },
  {
   "cell_type": "code",
   "execution_count": 2,
   "metadata": {},
   "outputs": [
    {
     "name": "stdout",
     "output_type": "stream",
     "text": [
      "Logical AND: False\n",
      "Logical OR: True\n",
      "Logical NOT: False\n"
     ]
    }
   ],
   "source": [
    "\"\"\"\n",
    "* Logical Operators\n",
    "- and\n",
    "- or\n",
    "- not\n",
    "\"\"\"\n",
    "\n",
    "x = True\n",
    "y = False\n",
    "\n",
    "print(\"Logical AND:\", x and y)\n",
    "print(\"Logical OR:\", x or y)\n",
    "print(\"Logical NOT:\", not x)"
   ]
  },
  {
   "cell_type": "code",
   "execution_count": 3,
   "metadata": {},
   "outputs": [
    {
     "name": "stdout",
     "output_type": "stream",
     "text": [
      "Membership in list: True\n",
      "Membership not in list: True\n"
     ]
    }
   ],
   "source": [
    "\"\"\"\n",
    "* Membership Operators\n",
    "- in\n",
    "- not in\n",
    "\"\"\"\n",
    "\n",
    "my_list = [1, 2, 3, 4, 5]\n",
    "\n",
    "print(\"Membership in list:\", 3 in my_list)\n",
    "print(\"Membership not in list:\", 6 not in my_list)"
   ]
  },
  {
   "cell_type": "code",
   "execution_count": 4,
   "metadata": {},
   "outputs": [
    {
     "name": "stdout",
     "output_type": "stream",
     "text": [
      "Add and assign: 17\n",
      "Subtract and assign: 12\n",
      "Multiply and assign: 60\n",
      "Divide and assign: 12.0\n",
      "Modulus and assign: 2.0\n",
      "Exponent and assign: 32.0\n",
      "Floor divide and assign: 6.0\n"
     ]
    }
   ],
   "source": [
    "\"\"\"\n",
    "* Assignment Operators\n",
    "- assign (=)\n",
    "- add and assign (+=)\n",
    "- subtract and assign (-=)\n",
    "- multiply and assign (*=)\n",
    "- divide and assign (/=)\n",
    "- modulus and assign (%=)\n",
    "- exponent and assign (**=)\n",
    "- floor divide and assign (//=)\n",
    "\"\"\"\n",
    "\n",
    "n1 = 12\n",
    "n2 = 5\n",
    "\n",
    "n1 += n2\n",
    "print(\"Add and assign:\", n1)\n",
    "n1 -= n2\n",
    "print(\"Subtract and assign:\", n1)\n",
    "n1 *= n2\n",
    "print(\"Multiply and assign:\", n1)\n",
    "n1 /= n2\n",
    "print(\"Divide and assign:\", n1)\n",
    "n1 %= n2\n",
    "print(\"Modulus and assign:\", n1)\n",
    "n1 **= n2\n",
    "print(\"Exponent and assign:\", n1)\n",
    "n1 //= n2\n",
    "print(\"Floor divide and assign:\", n1)\n"
   ]
  },
  {
   "cell_type": "code",
   "execution_count": null,
   "metadata": {},
   "outputs": [
    {
     "name": "stdout",
     "output_type": "stream",
     "text": [
      "Identity is: True\n",
      "Identity is not: True\n"
     ]
    }
   ],
   "source": [
    "\"\"\"\n",
    "* Identity Operators\n",
    "- is\n",
    "- is not\n",
    "\"\"\"\n",
    "\n",
    "p = [1, 2, 3]\n",
    "q = p\n",
    "r = [1, 2, 3]\n",
    "\n",
    "print(\"Identity is:\", p is q)\n",
    "print(\"Identity is not:\", p is not r)"
   ]
  },
  {
   "cell_type": "code",
   "execution_count": 6,
   "metadata": {},
   "outputs": [
    {
     "name": "stdout",
     "output_type": "stream",
     "text": [
      "Equal to: False\n",
      "Not equal to: True\n",
      "Greater than: False\n",
      "Less than: True\n",
      "Greater than or equal to: False\n",
      "Less than or equal to: True\n"
     ]
    }
   ],
   "source": [
    "\"\"\"\n",
    "* Comparison Operators\n",
    "- equal to (==)\n",
    "- not equal to (!=)\n",
    "- greater than (>)\n",
    "- less than (<)\n",
    "- greater than or equal to (>=)\n",
    "- less than or equal to (<=)\n",
    "\"\"\"\n",
    "\n",
    "m1 = 10\n",
    "m2 = 20\n",
    "\n",
    "print(\"Equal to:\", m1 == m2)\n",
    "print(\"Not equal to:\", m1 != m2)\n",
    "print(\"Greater than:\", m1 > m2)\n",
    "print(\"Less than:\", m1 < m2)\n",
    "print(\"Greater than or equal to:\", m1 >= m2)\n",
    "print(\"Less than or equal to:\", m1 <= m2)"
   ]
  }
 ],
 "metadata": {
  "kernelspec": {
   "display_name": "base",
   "language": "python",
   "name": "python3"
  },
  "language_info": {
   "codemirror_mode": {
    "name": "ipython",
    "version": 3
   },
   "file_extension": ".py",
   "mimetype": "text/x-python",
   "name": "python",
   "nbconvert_exporter": "python",
   "pygments_lexer": "ipython3",
   "version": "3.12.7"
  }
 },
 "nbformat": 4,
 "nbformat_minor": 2
}
